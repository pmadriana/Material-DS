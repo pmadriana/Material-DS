{
 "cells": [
  {
   "cell_type": "code",
   "execution_count": null,
   "metadata": {
    "id": "z4xfrqwDT2cC"
   },
   "outputs": [],
   "source": [
    "!pip install twint \n",
    "!pip install nest_asyncio"
   ]
  },
  {
   "cell_type": "code",
   "execution_count": null,
   "metadata": {
    "id": "UMjSN3i7TYcK"
   },
   "outputs": [],
   "source": [
    "!twint -u ErickGomezNieto"
   ]
  },
  {
   "cell_type": "code",
   "execution_count": null,
   "metadata": {
    "id": "9oueRep4CVHV"
   },
   "outputs": [],
   "source": [
    "import twint \n",
    "import nest_asyncio \n",
    "nest_asyncio.apply()"
   ]
  },
  {
   "cell_type": "code",
   "execution_count": null,
   "metadata": {
    "id": "-gYRllg_ZGZi"
   },
   "outputs": [],
   "source": [
    "# Instantiate and configure the twint-object\n",
    "c = twint.Config()\n",
    "\n",
    "c.Search= \"COVID19\"\n",
    "c.Lang= \"en\"\n",
    "c.Pandas= True\n",
    "c.Limit= 100\n",
    "\n"
   ]
  },
  {
   "cell_type": "code",
   "execution_count": null,
   "metadata": {
    "id": "afeoRbcdWMsB"
   },
   "outputs": [],
   "source": [
    "twint.run.Search(c)"
   ]
  },
  {
   "cell_type": "code",
   "execution_count": null,
   "metadata": {
    "id": "JPpR6xJzEaIk"
   },
   "outputs": [],
   "source": [
    "columns = twint.output.panda.Tweets_df.columns\n",
    "columns"
   ]
  },
  {
   "cell_type": "code",
   "execution_count": null,
   "metadata": {
    "id": "4YXqGwIHEa_Z"
   },
   "outputs": [],
   "source": [
    "data = twint.output.panda.Tweets_df[columns]\n",
    "data"
   ]
  }
 ],
 "metadata": {
  "colab": {
   "name": "T4 - CollectingData - API (twint).ipynb",
   "provenance": []
  },
  "kernelspec": {
   "display_name": "Python 3",
   "language": "python",
   "name": "python3"
  },
  "language_info": {
   "codemirror_mode": {
    "name": "ipython",
    "version": 3
   },
   "file_extension": ".py",
   "mimetype": "text/x-python",
   "name": "python",
   "nbconvert_exporter": "python",
   "pygments_lexer": "ipython3",
   "version": "3.8.8"
  }
 },
 "nbformat": 4,
 "nbformat_minor": 1
}
