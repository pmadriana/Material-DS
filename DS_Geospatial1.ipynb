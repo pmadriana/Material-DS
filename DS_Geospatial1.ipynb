{
 "cells": [
  {
   "cell_type": "markdown",
   "metadata": {
    "id": "FZRUMxKnTXlR"
   },
   "source": [
    "# **Geographical Data Visualization**\n",
    "Folium: https://github.com/python-visualization/folium\n",
    "\n",
    "Leaflet: https://leafletjs.com/"
   ]
  },
  {
   "cell_type": "markdown",
   "metadata": {
    "id": "z8KyqAVXUWHx"
   },
   "source": [
    "# *A simple example*"
   ]
  },
  {
   "cell_type": "code",
   "execution_count": 3,
   "metadata": {},
   "outputs": [
    {
     "name": "stdout",
     "output_type": "stream",
     "text": [
      "Collecting folium\n",
      "  Downloading folium-0.12.1-py2.py3-none-any.whl (94 kB)\n",
      "Collecting branca>=0.3.0\n",
      "  Downloading branca-0.4.2-py3-none-any.whl (24 kB)\n",
      "Requirement already satisfied: requests in c:\\users\\adri_\\anaconda3\\lib\\site-packages (from folium) (2.25.1)\n",
      "Requirement already satisfied: jinja2>=2.9 in c:\\users\\adri_\\anaconda3\\lib\\site-packages (from folium) (2.11.3)\n",
      "Requirement already satisfied: numpy in c:\\users\\adri_\\anaconda3\\lib\\site-packages (from folium) (1.20.1)\n",
      "Requirement already satisfied: MarkupSafe>=0.23 in c:\\users\\adri_\\anaconda3\\lib\\site-packages (from jinja2>=2.9->folium) (1.1.1)\n",
      "Requirement already satisfied: idna<3,>=2.5 in c:\\users\\adri_\\anaconda3\\lib\\site-packages (from requests->folium) (2.10)\n",
      "Requirement already satisfied: chardet<5,>=3.0.2 in c:\\users\\adri_\\anaconda3\\lib\\site-packages (from requests->folium) (4.0.0)\n",
      "Requirement already satisfied: certifi>=2017.4.17 in c:\\users\\adri_\\anaconda3\\lib\\site-packages (from requests->folium) (2020.12.5)\n",
      "Requirement already satisfied: urllib3<1.27,>=1.21.1 in c:\\users\\adri_\\anaconda3\\lib\\site-packages (from requests->folium) (1.26.4)\n",
      "Installing collected packages: branca, folium\n",
      "Successfully installed branca-0.4.2 folium-0.12.1\n"
     ]
    }
   ],
   "source": [
    "!pip install folium"
   ]
  },
  {
   "cell_type": "code",
   "execution_count": 4,
   "metadata": {
    "id": "VlnXAbNG_V4w"
   },
   "outputs": [
    {
     "name": "stdout",
     "output_type": "stream",
     "text": [
      "0.12.1\n"
     ]
    }
   ],
   "source": [
    "import folium\n",
    "print(folium.__version__)"
   ]
  },
  {
   "cell_type": "code",
   "execution_count": 5,
   "metadata": {
    "id": "ImHgO6qY_eJG"
   },
   "outputs": [
    {
     "data": {
      "text/html": [
       "<div style=\"width:100%;\"><div style=\"position:relative;width:100%;height:0;padding-bottom:60%;\"><span style=\"color:#565656\">Make this Notebook Trusted to load map: File -> Trust Notebook</span><iframe src=\"about:blank\" style=\"position:absolute;width:100%;height:100%;left:0;top:0;border:none !important;\" data-html=%3C%21DOCTYPE%20html%3E%0A%3Chead%3E%20%20%20%20%0A%20%20%20%20%3Cmeta%20http-equiv%3D%22content-type%22%20content%3D%22text/html%3B%20charset%3DUTF-8%22%20/%3E%0A%20%20%20%20%0A%20%20%20%20%20%20%20%20%3Cscript%3E%0A%20%20%20%20%20%20%20%20%20%20%20%20L_NO_TOUCH%20%3D%20false%3B%0A%20%20%20%20%20%20%20%20%20%20%20%20L_DISABLE_3D%20%3D%20false%3B%0A%20%20%20%20%20%20%20%20%3C/script%3E%0A%20%20%20%20%0A%20%20%20%20%3Cstyle%3Ehtml%2C%20body%20%7Bwidth%3A%20100%25%3Bheight%3A%20100%25%3Bmargin%3A%200%3Bpadding%3A%200%3B%7D%3C/style%3E%0A%20%20%20%20%3Cstyle%3E%23map%20%7Bposition%3Aabsolute%3Btop%3A0%3Bbottom%3A0%3Bright%3A0%3Bleft%3A0%3B%7D%3C/style%3E%0A%20%20%20%20%3Cscript%20src%3D%22https%3A//cdn.jsdelivr.net/npm/leaflet%401.6.0/dist/leaflet.js%22%3E%3C/script%3E%0A%20%20%20%20%3Cscript%20src%3D%22https%3A//code.jquery.com/jquery-1.12.4.min.js%22%3E%3C/script%3E%0A%20%20%20%20%3Cscript%20src%3D%22https%3A//maxcdn.bootstrapcdn.com/bootstrap/3.2.0/js/bootstrap.min.js%22%3E%3C/script%3E%0A%20%20%20%20%3Cscript%20src%3D%22https%3A//cdnjs.cloudflare.com/ajax/libs/Leaflet.awesome-markers/2.0.2/leaflet.awesome-markers.js%22%3E%3C/script%3E%0A%20%20%20%20%3Clink%20rel%3D%22stylesheet%22%20href%3D%22https%3A//cdn.jsdelivr.net/npm/leaflet%401.6.0/dist/leaflet.css%22/%3E%0A%20%20%20%20%3Clink%20rel%3D%22stylesheet%22%20href%3D%22https%3A//maxcdn.bootstrapcdn.com/bootstrap/3.2.0/css/bootstrap.min.css%22/%3E%0A%20%20%20%20%3Clink%20rel%3D%22stylesheet%22%20href%3D%22https%3A//maxcdn.bootstrapcdn.com/bootstrap/3.2.0/css/bootstrap-theme.min.css%22/%3E%0A%20%20%20%20%3Clink%20rel%3D%22stylesheet%22%20href%3D%22https%3A//maxcdn.bootstrapcdn.com/font-awesome/4.6.3/css/font-awesome.min.css%22/%3E%0A%20%20%20%20%3Clink%20rel%3D%22stylesheet%22%20href%3D%22https%3A//cdnjs.cloudflare.com/ajax/libs/Leaflet.awesome-markers/2.0.2/leaflet.awesome-markers.css%22/%3E%0A%20%20%20%20%3Clink%20rel%3D%22stylesheet%22%20href%3D%22https%3A//cdn.jsdelivr.net/gh/python-visualization/folium/folium/templates/leaflet.awesome.rotate.min.css%22/%3E%0A%20%20%20%20%0A%20%20%20%20%20%20%20%20%20%20%20%20%3Cmeta%20name%3D%22viewport%22%20content%3D%22width%3Ddevice-width%2C%0A%20%20%20%20%20%20%20%20%20%20%20%20%20%20%20%20initial-scale%3D1.0%2C%20maximum-scale%3D1.0%2C%20user-scalable%3Dno%22%20/%3E%0A%20%20%20%20%20%20%20%20%20%20%20%20%3Cstyle%3E%0A%20%20%20%20%20%20%20%20%20%20%20%20%20%20%20%20%23map_4616336801e04a5095182daf5eedcbd6%20%7B%0A%20%20%20%20%20%20%20%20%20%20%20%20%20%20%20%20%20%20%20%20position%3A%20relative%3B%0A%20%20%20%20%20%20%20%20%20%20%20%20%20%20%20%20%20%20%20%20width%3A%20100.0%25%3B%0A%20%20%20%20%20%20%20%20%20%20%20%20%20%20%20%20%20%20%20%20height%3A%20100.0%25%3B%0A%20%20%20%20%20%20%20%20%20%20%20%20%20%20%20%20%20%20%20%20left%3A%200.0%25%3B%0A%20%20%20%20%20%20%20%20%20%20%20%20%20%20%20%20%20%20%20%20top%3A%200.0%25%3B%0A%20%20%20%20%20%20%20%20%20%20%20%20%20%20%20%20%7D%0A%20%20%20%20%20%20%20%20%20%20%20%20%3C/style%3E%0A%20%20%20%20%20%20%20%20%0A%3C/head%3E%0A%3Cbody%3E%20%20%20%20%0A%20%20%20%20%0A%20%20%20%20%20%20%20%20%20%20%20%20%3Cdiv%20class%3D%22folium-map%22%20id%3D%22map_4616336801e04a5095182daf5eedcbd6%22%20%3E%3C/div%3E%0A%20%20%20%20%20%20%20%20%0A%3C/body%3E%0A%3Cscript%3E%20%20%20%20%0A%20%20%20%20%0A%20%20%20%20%20%20%20%20%20%20%20%20var%20map_4616336801e04a5095182daf5eedcbd6%20%3D%20L.map%28%0A%20%20%20%20%20%20%20%20%20%20%20%20%20%20%20%20%22map_4616336801e04a5095182daf5eedcbd6%22%2C%0A%20%20%20%20%20%20%20%20%20%20%20%20%20%20%20%20%7B%0A%20%20%20%20%20%20%20%20%20%20%20%20%20%20%20%20%20%20%20%20center%3A%20%5B-23.5505%2C%20-46.6333%5D%2C%0A%20%20%20%20%20%20%20%20%20%20%20%20%20%20%20%20%20%20%20%20crs%3A%20L.CRS.EPSG3857%2C%0A%20%20%20%20%20%20%20%20%20%20%20%20%20%20%20%20%20%20%20%20zoom%3A%2012%2C%0A%20%20%20%20%20%20%20%20%20%20%20%20%20%20%20%20%20%20%20%20zoomControl%3A%20true%2C%0A%20%20%20%20%20%20%20%20%20%20%20%20%20%20%20%20%20%20%20%20preferCanvas%3A%20false%2C%0A%20%20%20%20%20%20%20%20%20%20%20%20%20%20%20%20%7D%0A%20%20%20%20%20%20%20%20%20%20%20%20%29%3B%0A%0A%20%20%20%20%20%20%20%20%20%20%20%20%0A%0A%20%20%20%20%20%20%20%20%0A%20%20%20%20%0A%20%20%20%20%20%20%20%20%20%20%20%20var%20tile_layer_410b4e1e3af64de9bab9f3f588682f57%20%3D%20L.tileLayer%28%0A%20%20%20%20%20%20%20%20%20%20%20%20%20%20%20%20%22https%3A//%7Bs%7D.tile.openstreetmap.org/%7Bz%7D/%7Bx%7D/%7By%7D.png%22%2C%0A%20%20%20%20%20%20%20%20%20%20%20%20%20%20%20%20%7B%22attribution%22%3A%20%22Data%20by%20%5Cu0026copy%3B%20%5Cu003ca%20href%3D%5C%22http%3A//openstreetmap.org%5C%22%5Cu003eOpenStreetMap%5Cu003c/a%5Cu003e%2C%20under%20%5Cu003ca%20href%3D%5C%22http%3A//www.openstreetmap.org/copyright%5C%22%5Cu003eODbL%5Cu003c/a%5Cu003e.%22%2C%20%22detectRetina%22%3A%20false%2C%20%22maxNativeZoom%22%3A%2018%2C%20%22maxZoom%22%3A%2018%2C%20%22minZoom%22%3A%200%2C%20%22noWrap%22%3A%20false%2C%20%22opacity%22%3A%201%2C%20%22subdomains%22%3A%20%22abc%22%2C%20%22tms%22%3A%20false%7D%0A%20%20%20%20%20%20%20%20%20%20%20%20%29.addTo%28map_4616336801e04a5095182daf5eedcbd6%29%3B%0A%20%20%20%20%20%20%20%20%0A%3C/script%3E onload=\"this.contentDocument.open();this.contentDocument.write(    decodeURIComponent(this.getAttribute('data-html')));this.contentDocument.close();\" allowfullscreen webkitallowfullscreen mozallowfullscreen></iframe></div></div>"
      ],
      "text/plain": [
       "<folium.folium.Map at 0x176302f0850>"
      ]
     },
     "execution_count": 5,
     "metadata": {},
     "output_type": "execute_result"
    }
   ],
   "source": [
    "import folium\n",
    "\n",
    "folium_map = folium.Map(location=[-23.5505,-46.6333], # SP\n",
    "                        zoom_start=12,\n",
    "                        #tiles='cartodbdark_matter')\n",
    "                        tiles='openstreetmap')\n",
    "\n",
    "folium_map"
   ]
  },
  {
   "cell_type": "markdown",
   "metadata": {
    "id": "oQCjmFa3UTDO"
   },
   "source": [
    "## Adding markers"
   ]
  },
  {
   "cell_type": "code",
   "execution_count": null,
   "metadata": {
    "id": "G3yUWi2NDxAF"
   },
   "outputs": [],
   "source": [
    "import folium\n",
    "\n",
    "folium_map = folium.Map(location=[-12.0464, -77.0428],\n",
    "                        zoom_start=5,\n",
    "                        #tiles='CartoDB dark_matter')\n",
    "                        tiles='Stamentoner')\n",
    "\n",
    "# creamos 5 marcadores\n",
    "marker1 = folium.Marker(location=(-16.4090, -71.5375), popup=\"Arequipa\") # Arequipa\n",
    "marker2 = folium.Marker(location=(-12.5809, -69.2032)) # Puerto Maldonado\n",
    "marker3 = folium.Marker(location=(-12.0464, -77.0428)) # Lima\n",
    "marker4 = folium.Marker(location=(-5.1783, -80.6449)) #Piura\n",
    "marker5 = folium.Marker(location=(-3.7437, -73.2516)) # Iquitos\n",
    "\n",
    "marker1.add_to(folium_map)\n",
    "marker2.add_to(folium_map)\n",
    "marker3.add_to(folium_map)\n",
    "marker4.add_to(folium_map)\n",
    "marker5.add_to(folium_map)\n",
    "\n",
    "folium_map"
   ]
  },
  {
   "cell_type": "markdown",
   "metadata": {
    "id": "JgKqhiOtTSBQ"
   },
   "source": [
    "## *Loading data from file and export in html*"
   ]
  },
  {
   "cell_type": "code",
   "execution_count": null,
   "metadata": {
    "id": "3JBMUBjmd-J0"
   },
   "outputs": [],
   "source": [
    "!pip install -U -q PyDrive"
   ]
  },
  {
   "cell_type": "code",
   "execution_count": null,
   "metadata": {
    "id": "0Q_1IKAteJwf"
   },
   "outputs": [],
   "source": [
    "from pydrive.auth import GoogleAuth\n",
    "from pydrive.drive import GoogleDrive\n",
    "from google.colab import auth\n",
    "from oauth2client.client import GoogleCredentials"
   ]
  },
  {
   "cell_type": "code",
   "execution_count": null,
   "metadata": {
    "id": "TfndlDm-eKEf"
   },
   "outputs": [],
   "source": [
    "auth.authenticate_user()\n",
    "gauth = GoogleAuth()\n",
    "gauth.credentials = GoogleCredentials.get_application_default()\n",
    "drive = GoogleDrive(gauth)"
   ]
  },
  {
   "cell_type": "code",
   "execution_count": null,
   "metadata": {
    "id": "2zlMDfY8eKY3"
   },
   "outputs": [],
   "source": [
    "downloaded = drive.CreateFile({'id':'1H5t29oX-DcZfyxq8cF8FSXRHhflSIcBg'}) # replace the id with id of file you want to access\n",
    "downloaded.GetContentFile('meteorite-landings.csv') "
   ]
  },
  {
   "cell_type": "code",
   "execution_count": null,
   "metadata": {
    "id": "gRna_78ee_xB"
   },
   "outputs": [],
   "source": [
    "import pandas as pd\n",
    "\n",
    "df = pd.read_csv('meteorite-landings.csv') \n",
    "print(df.head())\n"
   ]
  },
  {
   "cell_type": "code",
   "execution_count": null,
   "metadata": {
    "id": "SJ6PJBglTN9b"
   },
   "outputs": [],
   "source": [
    "import folium\n",
    "\n",
    "\n",
    "folium_map = folium.Map(location=[50, 0],\n",
    "                        zoom_start=3,\n",
    "                        tiles='stamentoner')\n",
    "                        #tiles='openstreetmap')\n",
    "\n",
    "df['reclat'] = df['reclat'].fillna(0)\n",
    "df['reclong'] = df['reclong'].fillna(0)\n",
    "\n",
    "for point in range(0, 500):\n",
    "    folium.Marker(location=(df['reclat'][point], df['reclong'][point]), popup=df['name'][point]).add_to(folium_map)\n",
    "\n",
    "\n",
    "folium_map.save(\"met_landings.html\")\n",
    "# folium_map"
   ]
  },
  {
   "cell_type": "code",
   "execution_count": null,
   "metadata": {
    "id": "KF8l-dp_CP1I"
   },
   "outputs": [],
   "source": [
    "from google.colab import files\n",
    "\n",
    "files.download('met_landings.html')"
   ]
  },
  {
   "cell_type": "markdown",
   "metadata": {
    "id": "Ga8OPDDDY0FG"
   },
   "source": [
    "# *Choropleth map*\n",
    "\n",
    "Folium Map Tiles Basic Code: https://deparkes.co.uk/2016/06/10/folium-map-tiles/"
   ]
  },
  {
   "cell_type": "code",
   "execution_count": null,
   "metadata": {
    "id": "94tnx5GjupHV"
   },
   "outputs": [],
   "source": [
    "import folium\n",
    "print(folium.__version__)"
   ]
  },
  {
   "cell_type": "code",
   "execution_count": null,
   "metadata": {
    "id": "3qHfff_uueKu"
   },
   "outputs": [],
   "source": [
    "!pip install folium --upgrade"
   ]
  },
  {
   "cell_type": "code",
   "execution_count": null,
   "metadata": {
    "id": "UcR9t6OmY03V"
   },
   "outputs": [],
   "source": [
    "# Import libraries\n",
    "import pandas as pd\n",
    "import folium\n",
    "\n",
    "url_states = 'https://raw.githubusercontent.com/python-visualization/folium/master/examples/data'\n",
    "\n",
    "state_geo = f'{url_states}/us-states.json'  \n",
    "\n",
    "url_data = 'https://raw.githubusercontent.com/python-visualization/folium/master/examples/data/US_Unemployment_Oct2012.csv'\n",
    "\n",
    "state_data = pd.read_csv(url_data)\n",
    "\n",
    "# Initialize the map:\n",
    "m = folium.Map(location=[43, -102], zoom_start=5)\n",
    "\n",
    "choropleth = folium.Choropleth(\n",
    "    geo_data=state_geo,\n",
    "    line_weight=2,\n",
    "    data=state_data,\n",
    "    columns=['State', 'Unemployment'],\n",
    "    key_on='feature.id',\n",
    "    fill_color='Greys', # 'Greys', 'Purples', 'Blues', 'Greens', 'Oranges', 'Reds', 'YlOrBr', 'YlOrRd', 'OrRd', 'PuRd', 'RdPu', 'BuPu', 'GnBu', 'PuBu', 'YlGnBu', 'PuBuGn', 'BuGn', 'YlGn'\n",
    "    fill_opacity=0.8,\n",
    "    line_opacity=0.2,\n",
    "    legend_name='Unemployment Rate (%)',\n",
    "    name = 'unemployment',\n",
    "    highlight=True\n",
    ").add_to(m)\n",
    "\n",
    "folium.LayerControl(collapsed=False).add_to(m)\n",
    "\n",
    "#m.save(\"first_choropleth.html\")\n",
    "\n",
    "m"
   ]
  },
  {
   "cell_type": "code",
   "execution_count": null,
   "metadata": {
    "id": "prcT8UNoySa9"
   },
   "outputs": [],
   "source": [
    "from google.colab import files\n",
    "\n",
    "files.download('first_choropleth.html')"
   ]
  },
  {
   "cell_type": "markdown",
   "metadata": {
    "id": "mxeMF8KcUp0g"
   },
   "source": [
    "# Using Folium plugins"
   ]
  },
  {
   "cell_type": "code",
   "execution_count": null,
   "metadata": {
    "id": "bawfcBlW3UAS"
   },
   "outputs": [],
   "source": [
    "import folium\n",
    "from folium import plugins\n",
    "\n",
    "\n",
    "folium_map = folium.Map(location=[50, 0],\n",
    "                        zoom_start=3,\n",
    "                        tiles='CartoDB dark_matter')\n",
    "                        #tiles='openstreetmap')\n",
    "\n",
    "df['reclat'] = df['reclat'].fillna(0)\n",
    "df['reclong'] = df['reclong'].fillna(0)\n",
    "\n",
    "plugins.FastMarkerCluster(data=list(zip(df['reclat'].values, df['reclong'].values))).add_to(folium_map)\n",
    "\n",
    "folium.LayerControl().add_to(folium_map)\n",
    "\n",
    "folium_map"
   ]
  },
  {
   "cell_type": "code",
   "execution_count": null,
   "metadata": {
    "id": "z_Vi26-1_XRZ"
   },
   "outputs": [],
   "source": [
    "import folium\n",
    "from folium import plugins\n",
    "# from folium.plugins import HeatMap\n",
    "\n",
    "folium_map = folium.Map(location=[50, 0],\n",
    "                        zoom_start=3,\n",
    "                        tiles='CartoDB dark_matter')\n",
    "                        #tiles='openstreetmap')\n",
    "\n",
    "df['reclat'] = df['reclat'].fillna(0)\n",
    "df['reclong'] = df['reclong'].fillna(0)\n",
    "\n",
    "#plot fastmarkercluster\n",
    "plugins.FastMarkerCluster(data=list(zip(df['reclat'].values, df['reclong'].values))).add_to(folium_map)\n",
    "\n",
    "# convert to (n, 2) nd-array format for heatmap\n",
    "arr = df[['reclat', 'reclong']].values\n",
    "\n",
    "# plot heatmap\n",
    "plugins.HeatMap(arr, radius=14).add_to(folium_map)\n",
    "folium.LayerControl().add_to(folium_map)\n",
    "\n",
    "folium_map.save(\"plugins.html\")\n",
    "#folium_map"
   ]
  },
  {
   "cell_type": "code",
   "execution_count": null,
   "metadata": {
    "id": "4eSa_p_zX_Sy"
   },
   "outputs": [],
   "source": [
    "from google.colab import files\n",
    "\n",
    "files.download('plugins.html')"
   ]
  },
  {
   "cell_type": "markdown",
   "metadata": {
    "id": "3kCsvqLTFOEx"
   },
   "source": [
    "A comprehensive list of Folium examples: https://nbviewer.jupyter.org/github/python-visualization/folium/tree/master/examples/"
   ]
  }
 ],
 "metadata": {
  "colab": {
   "collapsed_sections": [],
   "name": "DS-Geospatial1.ipynb",
   "provenance": []
  },
  "kernelspec": {
   "display_name": "Python 3",
   "language": "python",
   "name": "python3"
  },
  "language_info": {
   "codemirror_mode": {
    "name": "ipython",
    "version": 3
   },
   "file_extension": ".py",
   "mimetype": "text/x-python",
   "name": "python",
   "nbconvert_exporter": "python",
   "pygments_lexer": "ipython3",
   "version": "3.8.8"
  }
 },
 "nbformat": 4,
 "nbformat_minor": 1
}
