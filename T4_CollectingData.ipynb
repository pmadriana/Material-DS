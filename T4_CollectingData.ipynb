{
  "nbformat": 4,
  "nbformat_minor": 0,
  "metadata": {
    "colab": {
      "name": "T4 - CollectingData.ipynb",
      "provenance": [],
      "collapsed_sections": []
    },
    "kernelspec": {
      "name": "python3",
      "display_name": "Python 3"
    }
  },
  "cells": [
    {
      "cell_type": "code",
      "metadata": {
        "id": "Dm0b_FeEwcHD",
        "colab_type": "code",
        "colab": {}
      },
      "source": [
        "# Get the data from an url\n",
        "\n",
        "# Clean data from html format\n",
        "from bs4 import BeautifulSoup\n",
        "# Request URL\n",
        "import urllib.request\n",
        "# NLP Processing\n",
        "import nltk\n",
        "nltk.download('popular')\n",
        "# Plot histogram\n",
        "import matplotlib.pyplot as plt"
      ],
      "execution_count": null,
      "outputs": []
    },
    {
      "cell_type": "markdown",
      "metadata": {
        "id": "apiIYPdo0k6L",
        "colab_type": "text"
      },
      "source": [
        "We will scrap our html using ***BeautifulSoup***\n",
        "\n",
        "Documentation https://www.crummy.com/software/BeautifulSoup/bs4/doc/\n"
      ]
    },
    {
      "cell_type": "code",
      "metadata": {
        "id": "WkVCYjT4wyej",
        "colab_type": "code",
        "colab": {}
      },
      "source": [
        "response = urllib.request.urlopen('https://sites.google.com/site/erickgomeznieto/publications')\n",
        "html = response.read()\n",
        "\n",
        "print(html)\n",
        "\n",
        "# Then, we use BeautifulSoup to clean from tags\n",
        "\n",
        "soup = BeautifulSoup(html,\"html.parser\")\n",
        " \n",
        "text = soup.get_text(strip=True)\n",
        " \n",
        "# original_tokens = [t for t in text.split()]\n",
        " \n",
        "# print(original_tokens)"
      ],
      "execution_count": null,
      "outputs": []
    },
    {
      "cell_type": "code",
      "metadata": {
        "id": "ofzOClubxuN6",
        "colab_type": "code",
        "colab": {}
      },
      "source": [
        "from nltk.tokenize import word_tokenize\n",
        "# generate tokens\n",
        "original_tokens = word_tokenize(text)\n",
        "\n",
        "# to lower case\n",
        "original_tokens = [x.lower() for x in original_tokens]\n",
        " \n",
        "print(original_tokens)"
      ],
      "execution_count": null,
      "outputs": []
    },
    {
      "cell_type": "code",
      "metadata": {
        "id": "Qk-QmzpIyse7",
        "colab_type": "code",
        "colab": {}
      },
      "source": [
        "# remove all tokens that are not alphabetic\n",
        "clean_tokens = [word for word in original_tokens if word.isalpha()]\n",
        "#print(words[:100])\n",
        "\n",
        "# get all stopwords \n",
        "sr = nltk.corpus.stopwords.words('english')\n",
        "sr.sort()\n",
        "print(sr)\n",
        "\n",
        "# UPDATE: new line\n",
        "clean2_tokens = [word for word in clean_tokens if not word in sr]\n",
        "\n",
        "print(len(clean2_tokens))\n"
      ],
      "execution_count": null,
      "outputs": []
    },
    {
      "cell_type": "code",
      "metadata": {
        "id": "purRwjoiy8Fz",
        "colab_type": "code",
        "colab": {}
      },
      "source": [
        "# Count frequencies\n",
        "freq = nltk.FreqDist(clean2_tokens)\n",
        "\n",
        "freq.plot(40,cumulative=False)\n",
        "plt.show()"
      ],
      "execution_count": null,
      "outputs": []
    },
    {
      "cell_type": "code",
      "metadata": {
        "id": "Nw7NB7H5y5n7",
        "colab_type": "code",
        "colab": {}
      },
      "source": [
        "# Generating a wordcloud from original tokens\n",
        "from os import path\n",
        "from PIL import Image\n",
        "from wordcloud import WordCloud\n",
        "\n",
        "# Generate a word cloud image\n",
        "wordcloud = WordCloud(background_color=\"black\").generate_from_frequencies(freq)\n",
        "\n",
        "plt.imshow(wordcloud, interpolation='bilinear')\n",
        "plt.axis(\"off\")\n",
        "plt.show()"
      ],
      "execution_count": null,
      "outputs": []
    }
  ]
}